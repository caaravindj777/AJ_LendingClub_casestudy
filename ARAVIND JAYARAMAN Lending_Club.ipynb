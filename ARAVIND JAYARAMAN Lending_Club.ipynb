{
 "cells": [
  {
   "cell_type": "code",
   "execution_count": 12,
   "id": "480437c5",
   "metadata": {},
   "outputs": [
    {
     "data": {
      "text/html": [
       "<div>\n",
       "<style scoped>\n",
       "    .dataframe tbody tr th:only-of-type {\n",
       "        vertical-align: middle;\n",
       "    }\n",
       "\n",
       "    .dataframe tbody tr th {\n",
       "        vertical-align: top;\n",
       "    }\n",
       "\n",
       "    .dataframe thead th {\n",
       "        text-align: right;\n",
       "    }\n",
       "</style>\n",
       "<table border=\"1\" class=\"dataframe\">\n",
       "  <thead>\n",
       "    <tr style=\"text-align: right;\">\n",
       "      <th></th>\n",
       "      <th>id</th>\n",
       "      <th>member_id</th>\n",
       "      <th>loan_amnt</th>\n",
       "      <th>funded_amnt</th>\n",
       "      <th>funded_amnt_inv</th>\n",
       "      <th>term</th>\n",
       "      <th>int_rate</th>\n",
       "      <th>installment</th>\n",
       "      <th>grade</th>\n",
       "      <th>sub_grade</th>\n",
       "      <th>...</th>\n",
       "      <th>num_tl_90g_dpd_24m</th>\n",
       "      <th>num_tl_op_past_12m</th>\n",
       "      <th>pct_tl_nvr_dlq</th>\n",
       "      <th>percent_bc_gt_75</th>\n",
       "      <th>pub_rec_bankruptcies</th>\n",
       "      <th>tax_liens</th>\n",
       "      <th>tot_hi_cred_lim</th>\n",
       "      <th>total_bal_ex_mort</th>\n",
       "      <th>total_bc_limit</th>\n",
       "      <th>total_il_high_credit_limit</th>\n",
       "    </tr>\n",
       "  </thead>\n",
       "  <tbody>\n",
       "    <tr>\n",
       "      <th>0</th>\n",
       "      <td>1077501</td>\n",
       "      <td>1296599</td>\n",
       "      <td>5000</td>\n",
       "      <td>5000</td>\n",
       "      <td>4975.0</td>\n",
       "      <td>36 months</td>\n",
       "      <td>10.65%</td>\n",
       "      <td>162.87</td>\n",
       "      <td>B</td>\n",
       "      <td>B2</td>\n",
       "      <td>...</td>\n",
       "      <td>NaN</td>\n",
       "      <td>NaN</td>\n",
       "      <td>NaN</td>\n",
       "      <td>NaN</td>\n",
       "      <td>0.0</td>\n",
       "      <td>0.0</td>\n",
       "      <td>NaN</td>\n",
       "      <td>NaN</td>\n",
       "      <td>NaN</td>\n",
       "      <td>NaN</td>\n",
       "    </tr>\n",
       "    <tr>\n",
       "      <th>1</th>\n",
       "      <td>1077430</td>\n",
       "      <td>1314167</td>\n",
       "      <td>2500</td>\n",
       "      <td>2500</td>\n",
       "      <td>2500.0</td>\n",
       "      <td>60 months</td>\n",
       "      <td>15.27%</td>\n",
       "      <td>59.83</td>\n",
       "      <td>C</td>\n",
       "      <td>C4</td>\n",
       "      <td>...</td>\n",
       "      <td>NaN</td>\n",
       "      <td>NaN</td>\n",
       "      <td>NaN</td>\n",
       "      <td>NaN</td>\n",
       "      <td>0.0</td>\n",
       "      <td>0.0</td>\n",
       "      <td>NaN</td>\n",
       "      <td>NaN</td>\n",
       "      <td>NaN</td>\n",
       "      <td>NaN</td>\n",
       "    </tr>\n",
       "    <tr>\n",
       "      <th>2</th>\n",
       "      <td>1077175</td>\n",
       "      <td>1313524</td>\n",
       "      <td>2400</td>\n",
       "      <td>2400</td>\n",
       "      <td>2400.0</td>\n",
       "      <td>36 months</td>\n",
       "      <td>15.96%</td>\n",
       "      <td>84.33</td>\n",
       "      <td>C</td>\n",
       "      <td>C5</td>\n",
       "      <td>...</td>\n",
       "      <td>NaN</td>\n",
       "      <td>NaN</td>\n",
       "      <td>NaN</td>\n",
       "      <td>NaN</td>\n",
       "      <td>0.0</td>\n",
       "      <td>0.0</td>\n",
       "      <td>NaN</td>\n",
       "      <td>NaN</td>\n",
       "      <td>NaN</td>\n",
       "      <td>NaN</td>\n",
       "    </tr>\n",
       "    <tr>\n",
       "      <th>3</th>\n",
       "      <td>1076863</td>\n",
       "      <td>1277178</td>\n",
       "      <td>10000</td>\n",
       "      <td>10000</td>\n",
       "      <td>10000.0</td>\n",
       "      <td>36 months</td>\n",
       "      <td>13.49%</td>\n",
       "      <td>339.31</td>\n",
       "      <td>C</td>\n",
       "      <td>C1</td>\n",
       "      <td>...</td>\n",
       "      <td>NaN</td>\n",
       "      <td>NaN</td>\n",
       "      <td>NaN</td>\n",
       "      <td>NaN</td>\n",
       "      <td>0.0</td>\n",
       "      <td>0.0</td>\n",
       "      <td>NaN</td>\n",
       "      <td>NaN</td>\n",
       "      <td>NaN</td>\n",
       "      <td>NaN</td>\n",
       "    </tr>\n",
       "    <tr>\n",
       "      <th>4</th>\n",
       "      <td>1075358</td>\n",
       "      <td>1311748</td>\n",
       "      <td>3000</td>\n",
       "      <td>3000</td>\n",
       "      <td>3000.0</td>\n",
       "      <td>60 months</td>\n",
       "      <td>12.69%</td>\n",
       "      <td>67.79</td>\n",
       "      <td>B</td>\n",
       "      <td>B5</td>\n",
       "      <td>...</td>\n",
       "      <td>NaN</td>\n",
       "      <td>NaN</td>\n",
       "      <td>NaN</td>\n",
       "      <td>NaN</td>\n",
       "      <td>0.0</td>\n",
       "      <td>0.0</td>\n",
       "      <td>NaN</td>\n",
       "      <td>NaN</td>\n",
       "      <td>NaN</td>\n",
       "      <td>NaN</td>\n",
       "    </tr>\n",
       "  </tbody>\n",
       "</table>\n",
       "<p>5 rows × 111 columns</p>\n",
       "</div>"
      ],
      "text/plain": [
       "        id  member_id  loan_amnt  funded_amnt  funded_amnt_inv        term  \\\n",
       "0  1077501    1296599       5000         5000           4975.0   36 months   \n",
       "1  1077430    1314167       2500         2500           2500.0   60 months   \n",
       "2  1077175    1313524       2400         2400           2400.0   36 months   \n",
       "3  1076863    1277178      10000        10000          10000.0   36 months   \n",
       "4  1075358    1311748       3000         3000           3000.0   60 months   \n",
       "\n",
       "  int_rate  installment grade sub_grade  ... num_tl_90g_dpd_24m  \\\n",
       "0   10.65%       162.87     B        B2  ...                NaN   \n",
       "1   15.27%        59.83     C        C4  ...                NaN   \n",
       "2   15.96%        84.33     C        C5  ...                NaN   \n",
       "3   13.49%       339.31     C        C1  ...                NaN   \n",
       "4   12.69%        67.79     B        B5  ...                NaN   \n",
       "\n",
       "  num_tl_op_past_12m pct_tl_nvr_dlq  percent_bc_gt_75 pub_rec_bankruptcies  \\\n",
       "0                NaN            NaN               NaN                  0.0   \n",
       "1                NaN            NaN               NaN                  0.0   \n",
       "2                NaN            NaN               NaN                  0.0   \n",
       "3                NaN            NaN               NaN                  0.0   \n",
       "4                NaN            NaN               NaN                  0.0   \n",
       "\n",
       "  tax_liens tot_hi_cred_lim total_bal_ex_mort total_bc_limit  \\\n",
       "0       0.0             NaN               NaN            NaN   \n",
       "1       0.0             NaN               NaN            NaN   \n",
       "2       0.0             NaN               NaN            NaN   \n",
       "3       0.0             NaN               NaN            NaN   \n",
       "4       0.0             NaN               NaN            NaN   \n",
       "\n",
       "  total_il_high_credit_limit  \n",
       "0                        NaN  \n",
       "1                        NaN  \n",
       "2                        NaN  \n",
       "3                        NaN  \n",
       "4                        NaN  \n",
       "\n",
       "[5 rows x 111 columns]"
      ]
     },
     "execution_count": 12,
     "metadata": {},
     "output_type": "execute_result"
    }
   ],
   "source": [
    "import pandas as pd\n",
    "import numpy as np #Math library\n",
    "import seaborn as sns #Graph library that use matplot in background\n",
    "import matplotlib.pyplot as plt #to plot some parameters in seaborn\n",
    "import warnings\n",
    "warnings.filterwarnings('ignore')\n",
    "# Lets import the data from the CSV file\n",
    "loandata=pd.read_csv(\"loan.csv\",header=0)\n",
    "#Let's have a look\n",
    "loandata.head(5)\n"
   ]
  },
  {
   "cell_type": "code",
   "execution_count": 13,
   "id": "35725590",
   "metadata": {},
   "outputs": [
    {
     "name": "stdout",
     "output_type": "stream",
     "text": [
      "<class 'pandas.core.frame.DataFrame'>\n",
      "RangeIndex: 39717 entries, 0 to 39716\n",
      "Columns: 111 entries, id to total_il_high_credit_limit\n",
      "dtypes: float64(74), int64(13), object(24)\n",
      "memory usage: 33.6+ MB\n",
      "None\n"
     ]
    }
   ],
   "source": [
    "# Let us now Searching for Missings,type of data and also \n",
    "#get to know the shape of data\n",
    "print(loandata.info())"
   ]
  },
  {
   "cell_type": "code",
   "execution_count": 14,
   "id": "4b47e939",
   "metadata": {},
   "outputs": [
    {
     "data": {
      "text/plain": [
       "(39717, 57)"
      ]
     },
     "execution_count": 14,
     "metadata": {},
     "output_type": "execute_result"
    }
   ],
   "source": [
    "#It is observed that there are a lot of columns with 100% null values. \n",
    "#Let's get rid of those collumns first and simplify our data\n",
    "\n",
    "loandata.dropna(axis = 1, how = 'all', inplace = True)\n",
    "loandata.shape\n",
    "# From 111 collumns, we now have only 57 relevant collumns\n",
    "\n",
    "\n"
   ]
  },
  {
   "cell_type": "code",
   "execution_count": 15,
   "id": "b3b1748c",
   "metadata": {},
   "outputs": [
    {
     "name": "stdout",
     "output_type": "stream",
     "text": [
      "Series([], dtype: bool)\n",
      "Series([], dtype: bool)\n"
     ]
    }
   ],
   "source": [
    "#Next step is let us check if the data is free of any anomaly. \n",
    "#The loan_amnt is the amount applied by potential borrowers, \n",
    "#funded_amnt is the amount recommended/approved by Lending Club, \n",
    "#and the funded_amnt_inv is the amount funded by investors.\n",
    "\n",
    "# In every case,funded_amnt_inv <= funded_amnt <=loan_amnt\n",
    "\n",
    "#Any other case is an anomaly which needs to be investigated as this\n",
    "#makes no sense. Such entries ought to be deleted as they will distort our\n",
    "#analysis\n",
    "\n",
    "#First let  us check whether funded_amnt is less than or equal to loan_amnt  \n",
    "checkpoint1=loandata['funded_amnt']<=loandata['loan_amnt']\n",
    "print(checkpoint1[checkpoint1==False])\n",
    "#We can thus conclude that there are no rows where funded_amnt is more than\n",
    "#loan_amnt\n",
    "\n",
    "# Second check for anomaly is whether funded_amnt_inv is less than or equal\n",
    "#to funded_amnt\n",
    "checkpoint2=loandata['funded_amnt_inv']<=loandata['funded_amnt']\n",
    "print(checkpoint2[checkpoint2==False])\n",
    "# There is no anomaly here also. So the data is clean of anomalies\n",
    "\n",
    "\n",
    "\n"
   ]
  },
  {
   "cell_type": "markdown",
   "id": "77896c65",
   "metadata": {},
   "source": [
    "The customer behavior variables are not available at the time of loan application, and thus they cannot be used as predictors for credit approval. So we are removing them and simplifying our data. We have identified the following to be customer behavior variables. \n",
    "\n",
    "1. delinq_2yrs\n",
    "2. revol_bal\n",
    "3. out_prncp\n",
    "4. total_pymnt\n",
    "5. total_rec_prncp\n",
    "6. total_rec_int\n",
    "7. total_rec_late_fee\n",
    "8. recoveries\n",
    "9. collection_recovery_fee\n",
    "10. last_pymnt_d\n",
    "11. last_pymnt_amnt\n",
    "12. next_pymnt_d\n",
    "13. chargeoff_within_12_mths\n",
    "14. mths_since_last_delinq\n",
    "15. mths_since_last_record\n",
    "\n",
    "We also need to drop some irrelevant collumns that wont help us in analysis \n",
    "at all\n",
    "These are \n",
    "1. \"id\", \n",
    "2. \"member_id\", \n",
    "3. \"url\", \n",
    "4. \"title\", \n",
    "5. \"emp_title\", \n",
    "6. \"zip_code\", \n",
    "7. last_credit_pull_d\", \n",
    "8. \"addr_state\",\n",
    "9. \"desc\",\n",
    "10. \"out_prncp_inv\",\n",
    "11. \"total_pymnt_inv\",\n",
    "12. \"funded_amnt\"\n",
    "\n"
   ]
  },
  {
   "cell_type": "code",
   "execution_count": 1,
   "id": "82f19b1a",
   "metadata": {},
   "outputs": [],
   "source": [
    "# We also need to drop some irrelevant collumns that wont help us in analysis \n",
    "#at all\n",
    "#These are \"id\", \"member_id\", \"url\", \"title\", \"emp_title\", \"zip_code\", \n",
    "#\"last_credit_pull_d\", \"addr_state\",\"desc\",\"out_prncp_inv\",\"total_pymnt_inv\",\"funded_amnt\"\n",
    "\n",
    "\n",
    "                \n"
   ]
  },
  {
   "cell_type": "code",
   "execution_count": 17,
   "id": "71868754",
   "metadata": {},
   "outputs": [
    {
     "data": {
      "text/plain": [
       "(39717, 57)"
      ]
     },
     "execution_count": 17,
     "metadata": {},
     "output_type": "execute_result"
    }
   ],
   "source": [
    "loandata.shape\n",
    "#57 collumns are there now"
   ]
  },
  {
   "cell_type": "code",
   "execution_count": 18,
   "id": "65ea93e9",
   "metadata": {},
   "outputs": [],
   "source": [
    "#Executing the command to remove these\n",
    "loandata.drop([\"id\", \"member_id\", \"url\", \"title\", \"emp_title\", \"zip_code\", \"last_credit_pull_d\", \"addr_state\",\"desc\",\"out_prncp_inv\",\"total_pymnt_inv\",\"funded_amnt\", \"delinq_2yrs\", \"revol_bal\", \"out_prncp\", \"total_pymnt\", \"total_rec_prncp\", \"total_rec_int\", \"total_rec_late_fee\", \"recoveries\", \"collection_recovery_fee\", \"last_pymnt_d\", \"last_pymnt_amnt\", \"next_pymnt_d\" , \"chargeoff_within_12_mths\", \"mths_since_last_delinq\", \"mths_since_last_record\"], axis = 1, inplace = True)"
   ]
  },
  {
   "cell_type": "code",
   "execution_count": 20,
   "id": "83bcc463",
   "metadata": {},
   "outputs": [
    {
     "data": {
      "text/plain": [
       "(39717, 30)"
      ]
     },
     "execution_count": 20,
     "metadata": {},
     "output_type": "execute_result"
    }
   ],
   "source": [
    "loandata.shape\n",
    "#We now have 30 collumns. Out of these 30 collumns also, we see that there are  \n",
    "#plenty of single valued collumns which are useless for our analysis\n",
    "# So lets remove them also"
   ]
  },
  {
   "cell_type": "code",
   "execution_count": null,
   "id": "f1050d76",
   "metadata": {},
   "outputs": [],
   "source": []
  },
  {
   "cell_type": "code",
   "execution_count": 21,
   "id": "ef9f78e6",
   "metadata": {},
   "outputs": [],
   "source": [
    "#Executing command to remove single valued collumns\n",
    "loandata.drop(['pymnt_plan', \"initial_list_status\",'collections_12_mths_ex_med','policy_code','acc_now_delinq', 'application_type', 'pub_rec_bankruptcies', 'tax_liens', 'delinq_amnt'], axis = 1, inplace = True)\n"
   ]
  },
  {
   "cell_type": "code",
   "execution_count": 22,
   "id": "7278a2a2",
   "metadata": {},
   "outputs": [
    {
     "data": {
      "text/plain": [
       "(39717, 21)"
      ]
     },
     "execution_count": 22,
     "metadata": {},
     "output_type": "execute_result"
    }
   ],
   "source": [
    "#Checking no of collumns again\n",
    "loandata.shape\n",
    "# 21 collumns now"
   ]
  },
  {
   "cell_type": "code",
   "execution_count": 23,
   "id": "92a260f6",
   "metadata": {},
   "outputs": [],
   "source": [
    "# Let us also remove the records whose loan status is current.\n",
    "# Lets also create a new data base to store this data\n",
    "\n",
    "loan_analysis = loandata[loandata.loan_status != \"Current\"]"
   ]
  },
  {
   "cell_type": "code",
   "execution_count": 24,
   "id": "656dfa4f",
   "metadata": {},
   "outputs": [
    {
     "data": {
      "text/plain": [
       "array(['Fully Paid', 'Charged Off'], dtype=object)"
      ]
     },
     "execution_count": 24,
     "metadata": {},
     "output_type": "execute_result"
    }
   ],
   "source": [
    "loan_analysis.loan_status.unique()"
   ]
  },
  {
   "cell_type": "code",
   "execution_count": 33,
   "id": "98a5cb1c",
   "metadata": {},
   "outputs": [
    {
     "data": {
      "text/plain": [
       "(38577, 21)"
      ]
     },
     "execution_count": 33,
     "metadata": {},
     "output_type": "execute_result"
    }
   ],
   "source": [
    "loan_analysis.shape"
   ]
  },
  {
   "cell_type": "code",
   "execution_count": 34,
   "id": "a2a21c4e",
   "metadata": {},
   "outputs": [
    {
     "data": {
      "text/plain": [
       "loan_amnt              0.000000\n",
       "funded_amnt_inv        0.000000\n",
       "term                   0.000000\n",
       "int_rate               0.000000\n",
       "installment            0.000000\n",
       "grade                  0.000000\n",
       "sub_grade              0.000000\n",
       "emp_length             2.677761\n",
       "home_ownership         0.000000\n",
       "annual_inc             0.000000\n",
       "verification_status    0.000000\n",
       "issue_d                0.000000\n",
       "loan_status            0.000000\n",
       "purpose                0.000000\n",
       "dti                    0.000000\n",
       "earliest_cr_line       0.000000\n",
       "inq_last_6mths         0.000000\n",
       "open_acc               0.000000\n",
       "pub_rec                0.000000\n",
       "revol_util             0.129611\n",
       "total_acc              0.000000\n",
       "dtype: float64"
      ]
     },
     "execution_count": 34,
     "metadata": {},
     "output_type": "execute_result"
    }
   ],
   "source": [
    "# Let's check for missing values and observe if they are significant\n",
    "# If missing values are 60%+ of total number of rows, we need to exclude \n",
    "(loan_analysis.isna().sum()/len(loan_analysis.index))*100"
   ]
  },
  {
   "cell_type": "markdown",
   "id": "64eacb33",
   "metadata": {},
   "source": [
    "Based on the observation above, it does not seem necessary to exclude\n",
    "any further columns as missing values are not significant enough to distort\n",
    "our analysis. \n",
    "We can use imputation to replace the missing values\n",
    "Some of the techniques that can be used for imputation are \n",
    "\n",
    "1. Replacing with Median or Mode\n",
    "2. K-nearest neighbour model\n",
    "\n",
    "We are however continuing our analysis with the missing values as they are not very much significant.\n"
   ]
  },
  {
   "cell_type": "markdown",
   "id": "fb37af43",
   "metadata": {},
   "source": [
    "\n",
    "\n"
   ]
  },
  {
   "cell_type": "code",
   "execution_count": 36,
   "id": "0bc9b82e",
   "metadata": {},
   "outputs": [
    {
     "data": {
      "text/plain": [
       "<AxesSubplot:xlabel='annual_inc'>"
      ]
     },
     "execution_count": 36,
     "metadata": {},
     "output_type": "execute_result"
    },
    {
     "data": {
      "image/png": "[encoded data removed]",
      "text/plain": [
       "<Figure size 432x288 with 1 Axes>"
      ]
     },
     "metadata": {
      "needs_background": "light"
     },
     "output_type": "display_data"
    }
   ],
   "source": [
    "# Check Outliers\n",
    "sns.boxplot(loan_analysis['annual_inc'])"
   ]
  },
  {
   "cell_type": "markdown",
   "id": "ea83f96a",
   "metadata": {},
   "source": [
    "There are outliers and we need to remove them. Before removing them we need to check. Let  us check beyond 95 percentile values\n"
   ]
  },
  {
   "cell_type": "code",
   "execution_count": 37,
   "id": "016f97c2",
   "metadata": {},
   "outputs": [
    {
     "data": {
      "text/plain": [
       "0.50     58868.0\n",
       "0.75     82000.0\n",
       "0.90    115000.0\n",
       "0.95    140004.0\n",
       "0.97    165000.0\n",
       "0.98    187000.0\n",
       "0.99    234144.0\n",
       "Name: annual_inc, dtype: float64"
      ]
     },
     "execution_count": 37,
     "metadata": {},
     "output_type": "execute_result"
    }
   ],
   "source": [
    "perc = loan_analysis.annual_inc.quantile([0.5, 0.75,0.90, 0.95, 0.97,0.98, 0.99])\n",
    "perc"
   ]
  },
  {
   "cell_type": "code",
   "execution_count": 38,
   "id": "c2776486",
   "metadata": {},
   "outputs": [],
   "source": [
    "# Removing outliers\n",
    "per_95p_annual_inc=loan_analysis['annual_inc'].quantile(0.95)\n",
    "\n",
    "loan_cleaned=loan_analysis[loan_analysis.annual_inc<=per_95p_annual_inc]"
   ]
  },
  {
   "cell_type": "code",
   "execution_count": 39,
   "id": "9dc83e09",
   "metadata": {},
   "outputs": [
    {
     "data": {
      "text/plain": [
       "<AxesSubplot:xlabel='annual_inc'>"
      ]
     },
     "execution_count": 39,
     "metadata": {},
     "output_type": "execute_result"
    },
    {
     "data": {
      "image/png": "[encoded data removed]",
      "text/plain": [
       "<Figure size 432x288 with 1 Axes>"
      ]
     },
     "metadata": {
      "needs_background": "light"
     },
     "output_type": "display_data"
    }
   ],
   "source": [
    "#Checking again\n",
    "sns.boxplot(loan_cleaned.annual_inc)"
   ]
  },
  {
   "cell_type": "markdown",
   "id": "3da10bd5",
   "metadata": {},
   "source": [
    "Now the data looks good. Let us also analyse for some other columns\n",
    "    "
   ]
  },
  {
   "cell_type": "code",
   "execution_count": 40,
   "id": "5d0b14f1",
   "metadata": {},
   "outputs": [
    {
     "data": {
      "text/plain": [
       "<AxesSubplot:xlabel='dti'>"
      ]
     },
     "execution_count": 40,
     "metadata": {},
     "output_type": "execute_result"
    },
    {
     "data": {
      "image/png": "[encoded data removed]",
      "text/plain": [
       "<Figure size 432x288 with 1 Axes>"
      ]
     },
     "metadata": {
      "needs_background": "light"
     },
     "output_type": "display_data"
    }
   ],
   "source": [
    "sns.boxplot(loan_analysis.dti)"
   ]
  },
  {
   "cell_type": "markdown",
   "id": "396542eb",
   "metadata": {},
   "source": [
    "No significant outliers and so no need to remove them\n"
   ]
  },
  {
   "cell_type": "code",
   "execution_count": 41,
   "id": "f1759f6b",
   "metadata": {},
   "outputs": [
    {
     "data": {
      "text/plain": [
       "<AxesSubplot:xlabel='funded_amnt_inv'>"
      ]
     },
     "execution_count": 41,
     "metadata": {},
     "output_type": "execute_result"
    },
    {
     "data": {
      "image/png": "[encoded data removed]",
      "text/plain": [
       "<Figure size 432x288 with 1 Axes>"
      ]
     },
     "metadata": {
      "needs_background": "light"
     },
     "output_type": "display_data"
    }
   ],
   "source": [
    "sns.boxplot(loan_analysis.funded_amnt_inv)"
   ]
  },
  {
   "cell_type": "markdown",
   "id": "5fc2d791",
   "metadata": {},
   "source": [
    "Let us check the percentiles also since we are not able to rule out outliers from the boxplot\n"
   ]
  },
  {
   "cell_type": "code",
   "execution_count": 42,
   "id": "118b0833",
   "metadata": {},
   "outputs": [
    {
     "data": {
      "text/plain": [
       "0.500     8733.440000\n",
       "0.750    14000.000000\n",
       "0.900    19975.000000\n",
       "0.950    24500.066590\n",
       "0.970    25750.000000\n",
       "0.975    27975.000000\n",
       "0.980    29879.258133\n",
       "0.985    30000.000000\n",
       "0.990    34715.012285\n",
       "1.000    35000.000000\n",
       "Name: funded_amnt_inv, dtype: float64"
      ]
     },
     "execution_count": 42,
     "metadata": {},
     "output_type": "execute_result"
    }
   ],
   "source": [
    "loan_analysis.funded_amnt_inv.quantile([0.5,0.75,0.90,0.95,0.97,0.975, 0.98,0.985, 0.99, 1.0])"
   ]
  },
  {
   "cell_type": "markdown",
   "id": "7e637dc6",
   "metadata": {},
   "source": [
    "Few extreme values seems fine and so we are not removing the outliers.\n"
   ]
  },
  {
   "cell_type": "code",
   "execution_count": 43,
   "id": "d3dc7826",
   "metadata": {},
   "outputs": [
    {
     "data": {
      "text/plain": [
       "<AxesSubplot:xlabel='loan_amnt'>"
      ]
     },
     "execution_count": 43,
     "metadata": {},
     "output_type": "execute_result"
    },
    {
     "data": {
      "image/png": "[encoded data removed]",
      "text/plain": [
       "<Figure size 432x288 with 1 Axes>"
      ]
     },
     "metadata": {
      "needs_background": "light"
     },
     "output_type": "display_data"
    }
   ],
   "source": [
    "sns.boxplot(loan_analysis.loan_amnt)"
   ]
  },
  {
   "cell_type": "markdown",
   "id": "42cca266",
   "metadata": {},
   "source": [
    "We need to check percentiles to see if outliers are significant\n"
   ]
  },
  {
   "cell_type": "code",
   "execution_count": 44,
   "id": "5c46c8da",
   "metadata": {},
   "outputs": [
    {
     "data": {
      "text/plain": [
       "0.750    15000.0\n",
       "0.900    21600.0\n",
       "0.950    25000.0\n",
       "0.970    28000.0\n",
       "0.975    30000.0\n",
       "0.980    30000.0\n",
       "0.990    35000.0\n",
       "1.000    35000.0\n",
       "Name: loan_amnt, dtype: float64"
      ]
     },
     "execution_count": 44,
     "metadata": {},
     "output_type": "execute_result"
    }
   ],
   "source": [
    "loan_analysis.loan_amnt.quantile([0.75,0.90,0.95,0.97,0.975, 0.98, 0.99, 1.0])"
   ]
  },
  {
   "cell_type": "markdown",
   "id": "33ebeb13",
   "metadata": {},
   "source": [
    "Few extreme values seems fine and so we are not removing the outliers."
   ]
  },
  {
   "cell_type": "markdown",
   "id": "8f5c650b",
   "metadata": {},
   "source": [
    "We found outliers in annual_inc which we have removed. So we have now created a new data in loan_cleaned which will be further used. loan_analysis is no more relevant\n"
   ]
  },
  {
   "cell_type": "code",
   "execution_count": 45,
   "id": "201d568c",
   "metadata": {},
   "outputs": [
    {
     "data": {
      "text/plain": [
       "<AxesSubplot:xlabel='loan_status', ylabel='count'>"
      ]
     },
     "execution_count": 45,
     "metadata": {},
     "output_type": "execute_result"
    },
    {
     "data": {
      "image/png": "[encoded data removed]",
      "text/plain": [
       "<Figure size 432x288 with 1 Axes>"
      ]
     },
     "metadata": {
      "needs_background": "light"
     },
     "output_type": "display_data"
    }
   ],
   "source": [
    "sns.countplot(x = 'loan_status', data = loan_cleaned)"
   ]
  },
  {
   "cell_type": "markdown",
   "id": "2820b9f4",
   "metadata": {},
   "source": [
    "We need to analyse the data only for which there are defaults."
   ]
  },
  {
   "cell_type": "markdown",
   "id": "e3223208",
   "metadata": {},
   "source": [
    "We would be subsetting the data while plotting only for 'Charged Off' loan_status for below plots. This is because we need to analyse just the default data. \n"
   ]
  },
  {
   "cell_type": "code",
   "execution_count": 46,
   "id": "65afefd9",
   "metadata": {},
   "outputs": [
    {
     "data": {
      "text/plain": [
       "0    2\n",
       "1    4\n",
       "2    5\n",
       "3    1\n",
       "5    4\n",
       "Name: sub_grade, dtype: int64"
      ]
     },
     "execution_count": 46,
     "metadata": {},
     "output_type": "execute_result"
    }
   ],
   "source": [
    "loan_cleaned.sub_grade = pd.to_numeric(loan_cleaned.sub_grade.apply(lambda x : x[-1]))\n",
    "loan_cleaned.sub_grade.head()"
   ]
  },
  {
   "cell_type": "code",
   "execution_count": 47,
   "id": "0ea157fe",
   "metadata": {},
   "outputs": [
    {
     "data": {
      "text/plain": [
       "<AxesSubplot:xlabel='grade', ylabel='count'>"
      ]
     },
     "execution_count": 47,
     "metadata": {},
     "output_type": "execute_result"
    },
    {
     "data": {
      "image/png": "[encoded data removed]",
      "text/plain": [
       "<Figure size 864x504 with 1 Axes>"
      ]
     },
     "metadata": {
      "needs_background": "light"
     },
     "output_type": "display_data"
    }
   ],
   "source": [
    "fig, ax = plt.subplots(figsize=(12,7))\n",
    "sns.set_palette('colorblind')\n",
    "sns.countplot(x = 'grade', order = ['A', 'B', 'C', 'D', 'E', 'F', 'G'] , hue = 'sub_grade',data = loan_cleaned[loan_cleaned.loan_status == 'Charged Off'])"
   ]
  },
  {
   "cell_type": "code",
   "execution_count": 49,
   "id": "ea387466",
   "metadata": {},
   "outputs": [
    {
     "data": {
      "text/plain": [
       "<AxesSubplot:xlabel='grade', ylabel='count'>"
      ]
     },
     "execution_count": 49,
     "metadata": {},
     "output_type": "execute_result"
    },
    {
     "data": {
      "image/png": "[encoded data removed]",
      "text/plain": [
       "<Figure size 432x288 with 1 Axes>"
      ]
     },
     "metadata": {
      "needs_background": "light"
     },
     "output_type": "display_data"
    }
   ],
   "source": [
    "sns.countplot(x = 'grade', data = loan_cleaned[loan_cleaned.loan_status == 'Charged Off'], order = ['A', 'B', 'C', 'D', 'E', 'F', 'G'])"
   ]
  },
  {
   "cell_type": "markdown",
   "id": "d7f8e4c2",
   "metadata": {},
   "source": [
    "ANALYSIS OF DEAFULTS BASED ON THE PURPOSE OF LOAN "
   ]
  },
  {
   "cell_type": "code",
   "execution_count": 52,
   "id": "37195bb8",
   "metadata": {},
   "outputs": [
    {
     "data": {
      "text/plain": [
       "<AxesSubplot:xlabel='count', ylabel='purpose'>"
      ]
     },
     "execution_count": 52,
     "metadata": {},
     "output_type": "execute_result"
    },
    {
     "data": {
      "image/png": "[encoded data removed]",
      "text/plain": [
       "<Figure size 864x576 with 1 Axes>"
      ]
     },
     "metadata": {
      "needs_background": "light"
     },
     "output_type": "display_data"
    }
   ],
   "source": [
    "# using Log Scale\n",
    "fig, ax = plt.subplots(figsize = (12,8))\n",
    "ax.set(xscale = 'log')\n",
    "sns.countplot(y ='purpose', data=loan_cleaned[loan_cleaned.loan_status == 'Charged Off'])\n"
   ]
  },
  {
   "cell_type": "markdown",
   "id": "01ef5056",
   "metadata": {},
   "source": [
    "ANALYSIS OF DEFAULTS BASED ON HOME OWNERSHIP"
   ]
  },
  {
   "cell_type": "code",
   "execution_count": 53,
   "id": "fba87fa8",
   "metadata": {},
   "outputs": [
    {
     "data": {
      "text/plain": [
       "<AxesSubplot:xlabel='home_ownership', ylabel='count'>"
      ]
     },
     "execution_count": 53,
     "metadata": {},
     "output_type": "execute_result"
    },
    {
     "data": {
      "image/png": "[encoded data removed]",
      "text/plain": [
       "<Figure size 432x288 with 1 Axes>"
      ]
     },
     "metadata": {
      "needs_background": "light"
     },
     "output_type": "display_data"
    }
   ],
   "source": [
    "fig, ax = plt.subplots(figsize = (6,4))\n",
    "ax.set(yscale = 'log')\n",
    "sns.countplot(x='home_ownership', data=loan_cleaned[loan_cleaned['loan_status']=='Charged Off'])"
   ]
  },
  {
   "cell_type": "markdown",
   "id": "da475f01",
   "metadata": {},
   "source": [
    "For proper visualization of other numerical columns, it is essential to make them categorical by binning them. This will enable us analyse them by range for defaults.\n",
    "1. int_rate\n",
    "2. open_acc\n",
    "\n",
    "3. total_acc\n",
    "4. annual_inc\n",
    "\n"
   ]
  },
  {
   "cell_type": "code",
   "execution_count": 60,
   "id": "efb0ff4a",
   "metadata": {},
   "outputs": [],
   "source": [
    "loan_cleaned['int_rate_groups'] = pd.cut(loan_cleaned['int_rate'], bins=5,precision =0,labels=['5%-9%','9%-13%','13%-17%','17%-21%','21%-24%'])\n"
   ]
  },
  {
   "cell_type": "code",
   "execution_count": 61,
   "id": "5f0fd08c",
   "metadata": {},
   "outputs": [],
   "source": [
    "loan_cleaned['open_acc_groups'] = pd.cut(loan_cleaned['open_acc'],bins = 5,precision =0,labels=['2-10','10-19','19-27','27-36','36-44'])"
   ]
  },
  {
   "cell_type": "code",
   "execution_count": 62,
   "id": "0f15e474",
   "metadata": {},
   "outputs": [],
   "source": [
    "loan_cleaned['total_acc_groups'] = pd.cut(loan_cleaned['total_acc'], bins=5,precision =0,labels=['2-20','20-37','37-55','55-74','74-90'])"
   ]
  },
  {
   "cell_type": "code",
   "execution_count": 63,
   "id": "7f5e6754",
   "metadata": {},
   "outputs": [],
   "source": [
    "loan_cleaned['annual_inc_groups'] = pd.cut(loan_cleaned['annual_inc'], bins=5,precision =0,labels =['3T-31T','31T-58T','58T-85T','85T-112T','112T-140T'])"
   ]
  },
  {
   "cell_type": "markdown",
   "id": "4073dd23",
   "metadata": {},
   "source": [
    "Now, let us analyse interest rates with respect to interest rate bins created"
   ]
  },
  {
   "cell_type": "code",
   "execution_count": null,
   "id": "38ee2c99",
   "metadata": {},
   "outputs": [],
   "source": []
  },
  {
   "cell_type": "code",
   "execution_count": 70,
   "id": "74f63e39",
   "metadata": {},
   "outputs": [
    {
     "data": {
      "text/plain": [
       "Text(0.5, 0, 'Interest Rate')"
      ]
     },
     "execution_count": 70,
     "metadata": {},
     "output_type": "execute_result"
    },
    {
     "data": {
      "image/png": "[encoded data removed]",
      "text/plain": [
       "<Figure size 1080x720 with 1 Axes>"
      ]
     },
     "metadata": {
      "needs_background": "light"
     },
     "output_type": "display_data"
    }
   ],
   "source": [
    "fig, ax = plt.subplots(figsize = (15,10))\n",
    "plt.subplot(221)\n",
    "sns.countplot(x='int_rate_groups', data=loan_cleaned[loan_cleaned.loan_status == 'Charged Off'])\n",
    "plt.xlabel('Interest Rate')\n"
   ]
  },
  {
   "cell_type": "markdown",
   "id": "ba9a4180",
   "metadata": {},
   "source": [
    "Now, let us analyse with respect to open_acc"
   ]
  },
  {
   "cell_type": "code",
   "execution_count": 72,
   "id": "b2cad992",
   "metadata": {},
   "outputs": [
    {
     "data": {
      "text/plain": [
       "<AxesSubplot:xlabel='open_acc_groups', ylabel='count'>"
      ]
     },
     "execution_count": 72,
     "metadata": {},
     "output_type": "execute_result"
    },
    {
     "data": {
      "image/png": "[encoded data removed]",
      "text/plain": [
       "<Figure size 504x360 with 1 Axes>"
      ]
     },
     "metadata": {
      "needs_background": "light"
     },
     "output_type": "display_data"
    }
   ],
   "source": [
    "fig, ax = plt.subplots(figsize = (7,5))\n",
    "ax.set_yscale('log')\n",
    "sns.countplot(x='open_acc_groups', data=loan_cleaned[loan_cleaned.loan_status == 'Charged Off'])"
   ]
  },
  {
   "cell_type": "markdown",
   "id": "35555932",
   "metadata": {},
   "source": [
    "Next, evaluating w.r.t total_acc\n"
   ]
  },
  {
   "cell_type": "code",
   "execution_count": 74,
   "id": "48bed1b3",
   "metadata": {},
   "outputs": [
    {
     "data": {
      "text/plain": [
       "<AxesSubplot:xlabel='total_acc_groups', ylabel='count'>"
      ]
     },
     "execution_count": 74,
     "metadata": {},
     "output_type": "execute_result"
    },
    {
     "data": {
      "image/png": "[encoded data removed]",
      "text/plain": [
       "<Figure size 576x432 with 1 Axes>"
      ]
     },
     "metadata": {
      "needs_background": "light"
     },
     "output_type": "display_data"
    }
   ],
   "source": [
    "fig, ax = plt.subplots(figsize = (8,6))\n",
    "ax.set_yscale('log')\n",
    "sns.countplot(x='total_acc_groups', data=loan_cleaned[loan_cleaned.loan_status == 'Charged Off'])"
   ]
  },
  {
   "cell_type": "markdown",
   "id": "fb56b51f",
   "metadata": {},
   "source": [
    "Next, analysing w.r.t annual_inc\n"
   ]
  },
  {
   "cell_type": "code",
   "execution_count": 75,
   "id": "626345f1",
   "metadata": {},
   "outputs": [
    {
     "data": {
      "text/plain": [
       "<AxesSubplot:xlabel='annual_inc_groups', ylabel='count'>"
      ]
     },
     "execution_count": 75,
     "metadata": {},
     "output_type": "execute_result"
    },
    {
     "data": {
      "image/png": "[encoded data removed]",
      "text/plain": [
       "<Figure size 720x432 with 1 Axes>"
      ]
     },
     "metadata": {
      "needs_background": "light"
     },
     "output_type": "display_data"
    }
   ],
   "source": [
    "fig, ax = plt.subplots(figsize = (10,6))\n",
    "sns.countplot(x='annual_inc_groups', data=loan_cleaned[loan_cleaned.loan_status == 'Charged Off'])"
   ]
  },
  {
   "cell_type": "code",
   "execution_count": 76,
   "id": "0224441d",
   "metadata": {},
   "outputs": [
    {
     "data": {
      "text/plain": [
       "<AxesSubplot:xlabel='count', ylabel='term'>"
      ]
     },
     "execution_count": 76,
     "metadata": {},
     "output_type": "execute_result"
    },
    {
     "data": {
      "image/png": "[encoded data removed]",
      "text/plain": [
       "<Figure size 432x288 with 1 Axes>"
      ]
     },
     "metadata": {
      "needs_background": "light"
     },
     "output_type": "display_data"
    }
   ],
   "source": [
    "sns.countplot(y='term', data=loan_cleaned[loan_cleaned['loan_status']=='Charged Off'])"
   ]
  },
  {
   "cell_type": "code",
   "execution_count": 77,
   "id": "bc7de845",
   "metadata": {},
   "outputs": [
    {
     "data": {
      "text/plain": [
       "<AxesSubplot:xlabel='verification_status', ylabel='count'>"
      ]
     },
     "execution_count": 77,
     "metadata": {},
     "output_type": "execute_result"
    },
    {
     "data": {
      "image/png": "[encoded data removed]",
      "text/plain": [
       "<Figure size 432x288 with 1 Axes>"
      ]
     },
     "metadata": {
      "needs_background": "light"
     },
     "output_type": "display_data"
    }
   ],
   "source": [
    "sns.countplot(x='verification_status', data=loan_cleaned[loan_cleaned['loan_status']=='Charged Off'])"
   ]
  },
  {
   "cell_type": "code",
   "execution_count": 78,
   "id": "1e0de82a",
   "metadata": {},
   "outputs": [
    {
     "data": {
      "text/plain": [
       "<AxesSubplot:xlabel='inq_last_6mths', ylabel='count'>"
      ]
     },
     "execution_count": 78,
     "metadata": {},
     "output_type": "execute_result"
    },
    {
     "data": {
      "image/png": "[encoded data removed]",
      "text/plain": [
       "<Figure size 720x576 with 1 Axes>"
      ]
     },
     "metadata": {
      "needs_background": "light"
     },
     "output_type": "display_data"
    }
   ],
   "source": [
    "fig,ax = plt.subplots(figsize = (10,8))\n",
    "ax.set_yscale('log')\n",
    "sns.countplot(x='inq_last_6mths', data=loan_cleaned[loan_cleaned['loan_status']=='Charged Off'])"
   ]
  },
  {
   "cell_type": "code",
   "execution_count": 79,
   "id": "e0ab78d2",
   "metadata": {},
   "outputs": [
    {
     "data": {
      "text/plain": [
       "<AxesSubplot:xlabel='pub_rec', ylabel='count'>"
      ]
     },
     "execution_count": 79,
     "metadata": {},
     "output_type": "execute_result"
    },
    {
     "data": {
      "image/png": "[encoded data removed]",
      "text/plain": [
       "<Figure size 504x360 with 1 Axes>"
      ]
     },
     "metadata": {
      "needs_background": "light"
     },
     "output_type": "display_data"
    }
   ],
   "source": [
    "fig,ax = plt.subplots(figsize = (7,5))\n",
    "ax.set_yscale('log')\n",
    "sns.countplot(x='pub_rec', data=loan_cleaned[loan_cleaned['loan_status']=='Charged Off'])"
   ]
  },
  {
   "cell_type": "markdown",
   "id": "e747c37c",
   "metadata": {},
   "source": [
    "Next, let us analyse by Year and month of loan issue. We however need to perform some extraction operations as the required data is not readily available in any column\n"
   ]
  },
  {
   "cell_type": "code",
   "execution_count": 80,
   "id": "aa39804c",
   "metadata": {},
   "outputs": [],
   "source": [
    "df_month_year = loan_cleaned['issue_d'].str.partition(\"-\", True)     \n",
    "loan_cleaned['issue_month']=df_month_year[0]                       \n",
    "loan_cleaned['issue_year']='20' + df_month_year[2]"
   ]
  },
  {
   "cell_type": "code",
   "execution_count": 81,
   "id": "9c045923",
   "metadata": {},
   "outputs": [
    {
     "data": {
      "text/html": [
       "<div>\n",
       "<style scoped>\n",
       "    .dataframe tbody tr th:only-of-type {\n",
       "        vertical-align: middle;\n",
       "    }\n",
       "\n",
       "    .dataframe tbody tr th {\n",
       "        vertical-align: top;\n",
       "    }\n",
       "\n",
       "    .dataframe thead th {\n",
       "        text-align: right;\n",
       "    }\n",
       "</style>\n",
       "<table border=\"1\" class=\"dataframe\">\n",
       "  <thead>\n",
       "    <tr style=\"text-align: right;\">\n",
       "      <th></th>\n",
       "      <th>loan_amnt</th>\n",
       "      <th>funded_amnt_inv</th>\n",
       "      <th>term</th>\n",
       "      <th>int_rate</th>\n",
       "      <th>installment</th>\n",
       "      <th>grade</th>\n",
       "      <th>sub_grade</th>\n",
       "      <th>emp_length</th>\n",
       "      <th>home_ownership</th>\n",
       "      <th>annual_inc</th>\n",
       "      <th>...</th>\n",
       "      <th>open_acc</th>\n",
       "      <th>pub_rec</th>\n",
       "      <th>revol_util</th>\n",
       "      <th>total_acc</th>\n",
       "      <th>int_rate_groups</th>\n",
       "      <th>open_acc_groups</th>\n",
       "      <th>total_acc_groups</th>\n",
       "      <th>annual_inc_groups</th>\n",
       "      <th>issue_month</th>\n",
       "      <th>issue_year</th>\n",
       "    </tr>\n",
       "  </thead>\n",
       "  <tbody>\n",
       "    <tr>\n",
       "      <th>0</th>\n",
       "      <td>5000</td>\n",
       "      <td>4975.0</td>\n",
       "      <td>36 months</td>\n",
       "      <td>10.65</td>\n",
       "      <td>162.87</td>\n",
       "      <td>B</td>\n",
       "      <td>2</td>\n",
       "      <td>10+ years</td>\n",
       "      <td>RENT</td>\n",
       "      <td>24000.0</td>\n",
       "      <td>...</td>\n",
       "      <td>3</td>\n",
       "      <td>0</td>\n",
       "      <td>83.70%</td>\n",
       "      <td>9</td>\n",
       "      <td>9%-13%</td>\n",
       "      <td>2-10</td>\n",
       "      <td>2-20</td>\n",
       "      <td>3T-31T</td>\n",
       "      <td>Dec</td>\n",
       "      <td>2011</td>\n",
       "    </tr>\n",
       "    <tr>\n",
       "      <th>1</th>\n",
       "      <td>2500</td>\n",
       "      <td>2500.0</td>\n",
       "      <td>60 months</td>\n",
       "      <td>15.27</td>\n",
       "      <td>59.83</td>\n",
       "      <td>C</td>\n",
       "      <td>4</td>\n",
       "      <td>&lt; 1 year</td>\n",
       "      <td>RENT</td>\n",
       "      <td>30000.0</td>\n",
       "      <td>...</td>\n",
       "      <td>3</td>\n",
       "      <td>0</td>\n",
       "      <td>9.40%</td>\n",
       "      <td>4</td>\n",
       "      <td>13%-17%</td>\n",
       "      <td>2-10</td>\n",
       "      <td>2-20</td>\n",
       "      <td>3T-31T</td>\n",
       "      <td>Dec</td>\n",
       "      <td>2011</td>\n",
       "    </tr>\n",
       "    <tr>\n",
       "      <th>2</th>\n",
       "      <td>2400</td>\n",
       "      <td>2400.0</td>\n",
       "      <td>36 months</td>\n",
       "      <td>15.96</td>\n",
       "      <td>84.33</td>\n",
       "      <td>C</td>\n",
       "      <td>5</td>\n",
       "      <td>10+ years</td>\n",
       "      <td>RENT</td>\n",
       "      <td>12252.0</td>\n",
       "      <td>...</td>\n",
       "      <td>2</td>\n",
       "      <td>0</td>\n",
       "      <td>98.50%</td>\n",
       "      <td>10</td>\n",
       "      <td>13%-17%</td>\n",
       "      <td>2-10</td>\n",
       "      <td>2-20</td>\n",
       "      <td>3T-31T</td>\n",
       "      <td>Dec</td>\n",
       "      <td>2011</td>\n",
       "    </tr>\n",
       "    <tr>\n",
       "      <th>3</th>\n",
       "      <td>10000</td>\n",
       "      <td>10000.0</td>\n",
       "      <td>36 months</td>\n",
       "      <td>13.49</td>\n",
       "      <td>339.31</td>\n",
       "      <td>C</td>\n",
       "      <td>1</td>\n",
       "      <td>10+ years</td>\n",
       "      <td>RENT</td>\n",
       "      <td>49200.0</td>\n",
       "      <td>...</td>\n",
       "      <td>10</td>\n",
       "      <td>0</td>\n",
       "      <td>21%</td>\n",
       "      <td>37</td>\n",
       "      <td>13%-17%</td>\n",
       "      <td>2-10</td>\n",
       "      <td>20-37</td>\n",
       "      <td>31T-58T</td>\n",
       "      <td>Dec</td>\n",
       "      <td>2011</td>\n",
       "    </tr>\n",
       "    <tr>\n",
       "      <th>5</th>\n",
       "      <td>5000</td>\n",
       "      <td>5000.0</td>\n",
       "      <td>36 months</td>\n",
       "      <td>7.90</td>\n",
       "      <td>156.46</td>\n",
       "      <td>A</td>\n",
       "      <td>4</td>\n",
       "      <td>3 years</td>\n",
       "      <td>RENT</td>\n",
       "      <td>36000.0</td>\n",
       "      <td>...</td>\n",
       "      <td>9</td>\n",
       "      <td>0</td>\n",
       "      <td>28.30%</td>\n",
       "      <td>12</td>\n",
       "      <td>5%-9%</td>\n",
       "      <td>2-10</td>\n",
       "      <td>2-20</td>\n",
       "      <td>31T-58T</td>\n",
       "      <td>Dec</td>\n",
       "      <td>2011</td>\n",
       "    </tr>\n",
       "  </tbody>\n",
       "</table>\n",
       "<p>5 rows × 27 columns</p>\n",
       "</div>"
      ],
      "text/plain": [
       "   loan_amnt  funded_amnt_inv        term  int_rate  installment grade  \\\n",
       "0       5000           4975.0   36 months     10.65       162.87     B   \n",
       "1       2500           2500.0   60 months     15.27        59.83     C   \n",
       "2       2400           2400.0   36 months     15.96        84.33     C   \n",
       "3      10000          10000.0   36 months     13.49       339.31     C   \n",
       "5       5000           5000.0   36 months      7.90       156.46     A   \n",
       "\n",
       "   sub_grade emp_length home_ownership  annual_inc  ... open_acc pub_rec  \\\n",
       "0          2  10+ years           RENT     24000.0  ...        3       0   \n",
       "1          4   < 1 year           RENT     30000.0  ...        3       0   \n",
       "2          5  10+ years           RENT     12252.0  ...        2       0   \n",
       "3          1  10+ years           RENT     49200.0  ...       10       0   \n",
       "5          4    3 years           RENT     36000.0  ...        9       0   \n",
       "\n",
       "  revol_util total_acc  int_rate_groups open_acc_groups  total_acc_groups  \\\n",
       "0     83.70%         9           9%-13%            2-10              2-20   \n",
       "1      9.40%         4          13%-17%            2-10              2-20   \n",
       "2     98.50%        10          13%-17%            2-10              2-20   \n",
       "3        21%        37          13%-17%            2-10             20-37   \n",
       "5     28.30%        12            5%-9%            2-10              2-20   \n",
       "\n",
       "   annual_inc_groups  issue_month issue_year  \n",
       "0             3T-31T          Dec       2011  \n",
       "1             3T-31T          Dec       2011  \n",
       "2             3T-31T          Dec       2011  \n",
       "3            31T-58T          Dec       2011  \n",
       "5            31T-58T          Dec       2011  \n",
       "\n",
       "[5 rows x 27 columns]"
      ]
     },
     "execution_count": 81,
     "metadata": {},
     "output_type": "execute_result"
    }
   ],
   "source": [
    "loan_cleaned.head()"
   ]
  },
  {
   "cell_type": "code",
   "execution_count": 82,
   "id": "bfef6872",
   "metadata": {},
   "outputs": [
    {
     "data": {
      "text/plain": [
       "<AxesSubplot:xlabel='issue_year', ylabel='count'>"
      ]
     },
     "execution_count": 82,
     "metadata": {},
     "output_type": "execute_result"
    },
    {
     "data": {
      "image/png": "[encoded data removed]",
      "text/plain": [
       "<Figure size 1080x1080 with 2 Axes>"
      ]
     },
     "metadata": {
      "needs_background": "light"
     },
     "output_type": "display_data"
    }
   ],
   "source": [
    "plt.figure(figsize=(15,15))\n",
    "plt.subplot(221)\n",
    "sns.countplot(x='issue_month', data=loan_cleaned[loan_cleaned['loan_status']=='Charged Off'])\n",
    "plt.subplot(222)\n",
    "sns.countplot(x='issue_year', data=loan_cleaned[loan_cleaned['loan_status']=='Charged Off'])"
   ]
  },
  {
   "cell_type": "markdown",
   "id": "3bccc061",
   "metadata": {},
   "source": [
    "Maximum defaults happened when the loan was sanctioned in Dec. Loan issued in the year 2011 were also more on the deafulter list compared to other years\n"
   ]
  },
  {
   "cell_type": "markdown",
   "id": "1dd6ebf0",
   "metadata": {},
   "source": [
    "Now, let us also analyse using installment, DTi and loan amount"
   ]
  },
  {
   "cell_type": "code",
   "execution_count": 83,
   "id": "f27ae8b5",
   "metadata": {},
   "outputs": [],
   "source": [
    "loan_cleaned['installment_groups'] = pd.cut(loan_cleaned['installment'], bins=10,precision =0,labels=['14-145','145-274','274-403','403-531','531-660','660-789','789-918','918-1047','1047-1176','1176-1305'])\n",
    "loan_cleaned['funded_amnt_inv_group'] = pd.cut(loan_cleaned['funded_amnt_inv'], bins=7,labels=['0-5k','5k-10k','10k-15k','15k-20k','20k-25k','25k-30k','30k-35k']) ## bin is starting from -35?\n",
    "loan_cleaned['loan_amnt_groups'] = pd.cut(loan_cleaned['loan_amnt'], bins=7,precision =0,labels=['0-5k','5k-10k','10k-15k','15k-20k','20k-25k','25k-30k','30k-35k'])\n",
    "loan_cleaned['dti_groups'] = pd.cut(loan_cleaned['dti'], bins=5,precision =0,labels=['0-6','6-12','12-18','18-24','24-30'])\n"
   ]
  },
  {
   "cell_type": "code",
   "execution_count": 84,
   "id": "127486bc",
   "metadata": {},
   "outputs": [
    {
     "data": {
      "text/plain": [
       "<AxesSubplot:xlabel='funded_amnt_inv_group', ylabel='count'>"
      ]
     },
     "execution_count": 84,
     "metadata": {},
     "output_type": "execute_result"
    },
    {
     "data": {
      "image/png": "[encoded data removed]",
      "text/plain": [
       "<Figure size 864x360 with 1 Axes>"
      ]
     },
     "metadata": {
      "needs_background": "light"
     },
     "output_type": "display_data"
    }
   ],
   "source": [
    "fig,ax = plt.subplots(figsize = (12,5))\n",
    "ax.set_yscale('log')\n",
    "sns.countplot(x='funded_amnt_inv_group', data=loan_cleaned[loan_cleaned['loan_status']=='Charged Off'])"
   ]
  },
  {
   "cell_type": "code",
   "execution_count": 85,
   "id": "a789db79",
   "metadata": {},
   "outputs": [
    {
     "data": {
      "text/plain": [
       "<AxesSubplot:xlabel='loan_amnt_groups', ylabel='count'>"
      ]
     },
     "execution_count": 85,
     "metadata": {},
     "output_type": "execute_result"
    },
    {
     "data": {
      "image/png": "[encoded data removed]",
      "text/plain": [
       "<Figure size 1080x432 with 1 Axes>"
      ]
     },
     "metadata": {
      "needs_background": "light"
     },
     "output_type": "display_data"
    }
   ],
   "source": [
    "fig,ax = plt.subplots(figsize = (15,6))\n",
    "ax.set_yscale('log')\n",
    "sns.countplot(x='loan_amnt_groups', data=loan_cleaned[loan_cleaned['loan_status']=='Charged Off'])"
   ]
  },
  {
   "cell_type": "code",
   "execution_count": 86,
   "id": "91886b59",
   "metadata": {},
   "outputs": [
    {
     "data": {
      "text/plain": [
       "<AxesSubplot:xlabel='dti_groups', ylabel='count'>"
      ]
     },
     "execution_count": 86,
     "metadata": {},
     "output_type": "execute_result"
    },
    {
     "data": {
      "image/png": "[encoded data removed]",
      "text/plain": [
       "<Figure size 432x288 with 1 Axes>"
      ]
     },
     "metadata": {
      "needs_background": "light"
     },
     "output_type": "display_data"
    }
   ],
   "source": [
    "sns.countplot(x='dti_groups', data=loan_cleaned[loan_cleaned['loan_status']=='Charged Off'])"
   ]
  },
  {
   "cell_type": "code",
   "execution_count": 87,
   "id": "40856b00",
   "metadata": {},
   "outputs": [
    {
     "data": {
      "text/plain": [
       "<AxesSubplot:xlabel='installment_groups', ylabel='count'>"
      ]
     },
     "execution_count": 87,
     "metadata": {},
     "output_type": "execute_result"
    },
    {
     "data": {
      "image/png": "[encoded data removed]",
      "text/plain": [
       "<Figure size 1080x432 with 1 Axes>"
      ]
     },
     "metadata": {
      "needs_background": "light"
     },
     "output_type": "display_data"
    }
   ],
   "source": [
    "fig,ax = plt.subplots(figsize = (15,6))\n",
    "ax.set_yscale('log')\n",
    "sns.countplot(x='installment_groups', data=loan_cleaned[loan_cleaned['loan_status']=='Charged Off'])"
   ]
  },
  {
   "cell_type": "markdown",
   "id": "23de575b",
   "metadata": {},
   "source": [
    "MAJOR OBSERVATIONS\n",
    "Based on the various visualizations and plots above, we make the following conclusions which might be useful to predict which persons are more likely to default. Although correlation necessarily does not mean causation, here are some observations and likely reasoning in my judgment. \n",
    "\n",
    "1. Applicants living in Rented house are more likely to default than those having their own house. This maybe because those having their own house fear their house being mortgaged and attached for recovery.\n",
    "\n",
    "2. Applicants whose main purpose of taking loan is to clear other loans or consolidate their debts are more likely to default. This can be due to poor financial management techniques used.\n",
    "\n",
    "3. Applicants receiving interest at the rate of 13%-17% are more likely to default. This is the observation from the data. Correlation doesn't indicate causation, so there is no particular cause as such. \n",
    "\n",
    "4. Where installments are between 145-274, the chances of default are higher.\n",
    "\n",
    "5. Applicants with DTi between 12-18 are more likely to make a default. \n",
    "\n",
    "6. Where funded amt  or loan amt  is between 5000-10000, there is more likelihood of default.\n",
    "\n",
    "7. Maximum defaults occur where verification status is 'Not verified'. Reason is quite obvious as it may have a higher level of fraudulent/ fake applications. \n",
    "\n",
    "8. When the number of derogatory public records is 0, there the default is maximum.\n",
    "\n",
    "9. When the no of enquiries in last 6 months is 0, there the default is maximum.\n",
    "\n",
    "10. Applicants with income between 31T-58T are most likely to default. No particular cause identified.\n",
    "\n",
    "11. Grade B and FINAL B5 grade applicants are the highest defaulters according to this data."
   ]
  }
 ],
 "metadata": {
  "kernelspec": {
   "display_name": "Python 3 (ipykernel)",
   "language": "python",
   "name": "python3"
  },
  "language_info": {
   "codemirror_mode": {
    "name": "ipython",
    "version": 3
   },
   "file_extension": ".py",
   "mimetype": "text/x-python",
   "name": "python",
   "nbconvert_exporter": "python",
   "pygments_lexer": "ipython3",
   "version": "3.9.12"
  }
 },
 "nbformat": 4,
 "nbformat_minor": 5
}
